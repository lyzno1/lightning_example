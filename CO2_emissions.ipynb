{
 "cells": [
  {
   "cell_type": "markdown",
   "metadata": {},
   "source": [
    "# CO2的排量预测，使用pytorch lightning框架示例\n",
    "## 导入所需的库"
   ]
  },
  {
   "cell_type": "code",
   "execution_count": 25,
   "metadata": {},
   "outputs": [],
   "source": [
    "import numpy as np\n",
    "import pandas as pd\n",
    "from sklearn.metrics import mean_absolute_error\n",
    "from scipy.stats import yeojohnson, yeojohnson_normmax, yeojohnson_llf\n",
    "import torch\n",
    "from torch.utils.data import Dataset, DataLoader, random_split\n",
    "import pytorch_lightning as pl\n",
    "from torch import nn\n",
    "from pytorch_lightning.loggers import TensorBoardLogger\n",
    "from pytorch_lightning.callbacks import EarlyStopping, ModelCheckpoint, TQDMProgressBar\n",
    "from sklearn.model_selection import train_test_split\n",
    "from pytorch_lightning import seed_everything\n",
    "from sklearn.preprocessing import PowerTransformer\n",
    "\n",
    "print(\"zxhnb\")"
   ]
  },
  {
   "cell_type": "markdown",
   "metadata": {},
   "source": [
    "## 数据预处理"
   ]
  },
  {
   "cell_type": "code",
   "execution_count": 26,
   "metadata": {},
   "outputs": [],
   "source": [
    "def preprocess_data(file_path):\n",
    "    data = pd.read_csv(file_path, encoding='gbk')\n",
    "    \n",
    "    data['entry_date'] = pd.to_datetime(data['entry_date'])\n",
    "    data['departure_date'] = pd.to_datetime(data['departure_date'])\n",
    "    \n",
    "    data['duration'] = (data['departure_date'] - data['entry_date']).dt.days\n",
    "    \n",
    "    pt = PowerTransformer(method='yeo-johnson')\n",
    "    data['CO2排放总量_transformed'] = pt.fit_transform(data['CO2排放总量'].values.reshape(-1, 1)) # 进行Yeo-Johnson变换\n",
    "    \n",
    "    data = data.sort_values(by='duration', ascending=False)\n",
    "    \n",
    "    return data, pt"
   ]
  },
  {
   "cell_type": "markdown",
   "metadata": {},
   "source": [
    "## 定义数据集（继承自Dataset）"
   ]
  },
  {
   "cell_type": "code",
   "execution_count": 27,
   "metadata": {},
   "outputs": [],
   "source": [
    "class EmissionsDataset(Dataset):\n",
    "    def __init__(self, data):\n",
    "        self.data = data\n",
    "        self.features = data[['duration']].values\n",
    "        self.labels = data['CO2排放总量_transformed'].values\n",
    "\n",
    "    def __len__(self):\n",
    "        return len(self.data)\n",
    "\n",
    "    def __getitem__(self, idx):\n",
    "        feature = torch.tensor(self.features[idx], dtype=torch.float32).unsqueeze(0)\n",
    "        label = torch.tensor(self.labels[idx], dtype=torch.float32)\n",
    "        return feature, label"
   ]
  },
  {
   "cell_type": "markdown",
   "metadata": {},
   "source": [
    "## pl的数据模块"
   ]
  },
  {
   "cell_type": "code",
   "execution_count": 28,
   "metadata": {},
   "outputs": [],
   "source": [
    "class EmissionsDataModule(pl.LightningDataModule):\n",
    "    def __init__(self, hparams, df, pt):\n",
    "        super().__init__()\n",
    "        self.batch_size = hparams.batch_size\n",
    "        self.num_workers = hparams.num_workers\n",
    "        self.df = df\n",
    "        self.pt = pt\n",
    "        self.init_seed = hparams.init_seed\n",
    "\n",
    "    def setup(self, stage=None): # 划分数据集\n",
    "        dataset = EmissionsDataset(self.df)\n",
    "\n",
    "        train_and_val_dataset, self.test_dataset = train_test_split(dataset, test_size=0.1, random_state=self.init_seed)\n",
    "        self.train_dataset, self.val_dataset = train_test_split(train_and_val_dataset, test_size=0.1, random_state=self.init_seed)\n",
    "        \n",
    "    def train_dataloader(self):\n",
    "        return DataLoader(self.train_dataset, batch_size=self.batch_size, num_workers=self.num_workers, shuffle=True)\n",
    "\n",
    "    def val_dataloader(self):\n",
    "        return DataLoader(self.val_dataset, batch_size=self.batch_size, num_workers=self.num_workers)\n",
    "\n",
    "    def test_dataloader(self):\n",
    "        return DataLoader(self.test_dataset, batch_size=self.batch_size, num_workers=self.num_workers)"
   ]
  },
  {
   "cell_type": "markdown",
   "metadata": {},
   "source": [
    "## 定义所有神经网络\n",
    "### RNN"
   ]
  },
  {
   "cell_type": "code",
   "execution_count": 29,
   "metadata": {},
   "outputs": [],
   "source": [
    "class RNNModel(nn.Module):\n",
    "    def __init__(self, hidden_dim=64, num_layers=2, input_dim=1, output_dim=1):\n",
    "        super(RNNModel, self).__init__()\n",
    "        self.rnn = nn.RNN(input_dim, hidden_dim, num_layers, batch_first=True)\n",
    "        self.fc = nn.Linear(hidden_dim, output_dim)\n",
    "\n",
    "    def forward(self, x):\n",
    "        h0 = torch.zeros(self.rnn.num_layers, x.size(0), self.rnn.hidden_size).to(x.device)\n",
    "        out, _ = self.rnn(x, h0)\n",
    "        out = self.fc(out[:, -1, :])\n",
    "        return out"
   ]
  },
  {
   "cell_type": "markdown",
   "metadata": {},
   "source": [
    "### GRU 结合 Transformer"
   ]
  },
  {
   "cell_type": "code",
   "execution_count": 30,
   "metadata": {},
   "outputs": [],
   "source": [
    "class GRUModel(nn.Module):\n",
    "    def __init__(self, hidden_dim=64, num_layers=2, input_dim=1, output_dim=1):\n",
    "        super(GRUModel, self).__init__()\n",
    "        self.gru = nn.GRU(input_dim, hidden_dim, num_layers, batch_first=True)\n",
    "        self.attention = nn.MultiheadAttention(hidden_dim, num_heads=2)\n",
    "        self.ln = nn.LayerNorm(hidden_dim)\n",
    "        self.ffn = nn.Sequential(\n",
    "            nn.Linear(hidden_dim, 1024),\n",
    "            nn.ReLU(),\n",
    "            nn.Linear(1024, hidden_dim)\n",
    "        )\n",
    "        self.fc = nn.Linear(hidden_dim, output_dim)\n",
    "\n",
    "    def forward(self, x):\n",
    "        h0 = torch.zeros(self.gru.num_layers, x.size(0), self.gru.hidden_size).to(x.device)\n",
    "        out, _ = self.gru(x, h0)\n",
    "        at_out, _ = self.attention(out, out, out)\n",
    "        out = self.ln(out + at_out)\n",
    "        out = self.ffn(out)\n",
    "        out = self.ln(out + at_out)\n",
    "        out = self.fc(out[:, -1, :])\n",
    "        return out"
   ]
  },
  {
   "cell_type": "markdown",
   "metadata": {},
   "source": [
    "### LSTM"
   ]
  },
  {
   "cell_type": "code",
   "execution_count": 31,
   "metadata": {},
   "outputs": [],
   "source": [
    "class LSTMModel(nn.Module):\n",
    "    def __init__(self, hidden_dim=64, num_layers=2, input_dim=1, output_dim=1, bidirectional=False):\n",
    "        super(LSTMModel, self).__init__()\n",
    "        self.hidden_dim = hidden_dim\n",
    "        self.num_layers = num_layers\n",
    "        self.bidirectional = bidirectional\n",
    "        self.lstm = nn.LSTM(input_dim, hidden_dim, num_layers, batch_first=True, bidirectional=bidirectional)\n",
    "        self.fc = nn.Linear(hidden_dim * 2 if bidirectional else hidden_dim, output_dim)\n",
    "\n",
    "    def forward(self, x):\n",
    "        # 初始化 LSTM 隐藏状态\n",
    "        h0 = torch.zeros(self.num_layers * (2 if self.bidirectional else 1), x.size(0), self.hidden_dim).to(x.device)\n",
    "        c0 = torch.zeros(self.num_layers * (2 if self.bidirectional else 1), x.size(0), self.hidden_dim).to(x.device)\n",
    "        \n",
    "        # LSTM 前向传播\n",
    "        out, _ = self.lstm(x, (h0, c0))\n",
    "        \n",
    "        # 取最后一个时间步的输出，并送入全连接层\n",
    "        out = self.fc(out[:, -1, :])\n",
    "        return out\n"
   ]
  },
  {
   "cell_type": "markdown",
   "metadata": {},
   "source": [
    "### FC (Linear)"
   ]
  },
  {
   "cell_type": "code",
   "execution_count": 32,
   "metadata": {},
   "outputs": [],
   "source": [
    "class FullyConnected(nn.Module):\n",
    "    def __init__(self, hidden_dim=64, input_dim=1, output_dim=1, is_linear=False):\n",
    "        super(FullyConnected, self).__init__()\n",
    "        self.is_linear = is_linear\n",
    "        self.fc1 = nn.Linear(input_dim, hidden_dim)\n",
    "        self.relu = nn.ReLU()\n",
    "        self.fc2 = nn.Linear(hidden_dim, output_dim)\n",
    "        self.only = nn.Linear(input_dim, output_dim)\n",
    "    def forward(self, x):\n",
    "        if self.is_linear:\n",
    "            x = self.only(x)\n",
    "        else:\n",
    "            x = self.fc1(x)\n",
    "            x = self.relu(x)\n",
    "            x = self.fc2(x)\n",
    "        return x"
   ]
  },
  {
   "cell_type": "markdown",
   "metadata": {},
   "source": [
    "## pytorch lightning module\n",
    "## 在这里，只需要将模型导入，并重写training_step, validation_step, test_step以及optimizer"
   ]
  },
  {
   "cell_type": "code",
   "execution_count": 77,
   "metadata": {},
   "outputs": [],
   "source": [
    "class EmissionsPredictor(pl.LightningModule):\n",
    "    def __init__(self, hparams, pt):\n",
    "        super(EmissionsPredictor, self).__init__()\n",
    "        self.save_hyperparameters(hparams) # 保存超参数\n",
    "        self.pt = pt\n",
    "        self.model_type = hparams.model_type\n",
    "\n",
    "        if self.model_type == 'RNN':\n",
    "            self.model = RNNModel(hidden_dim=hparams.hidden_dim, num_layers=hparams.num_layers)\n",
    "        elif self.model_type == 'GRU':\n",
    "            self.model = GRUModel(hidden_dim=hparams.hidden_dim, num_layers=hparams.num_layers)\n",
    "        elif self.model_type == 'LSTM':\n",
    "            self.model = LSTMModel(hidden_dim=hparams.hidden_dim, num_layers=hparams.num_layers, bidirectional=hparams.bidirectional)\n",
    "        elif self.model_type == 'FC':\n",
    "            self.model = FullyConnected(hidden_dim=hparams.hidden_dim, is_linear=False)\n",
    "        else:\n",
    "            raise ValueError(f\"Unknown model type: {self.model_type}\")\n",
    "        \n",
    "        self.criterion = nn.L1Loss()\n",
    "\n",
    "    def forward(self, x):\n",
    "        return self.model(x)\n",
    "\n",
    "    def training_step(self, batch, batch_idx):\n",
    "        x, y = batch\n",
    "        y_hat = self(x).squeeze()\n",
    "        train_loss = self.criterion(y_hat, y)\n",
    "        self.log('train_loss', train_loss, prog_bar=True, on_epoch=True)\n",
    "        return {'loss' : train_loss}\n",
    "    \n",
    "    def validation_step(self, batch, batch_idx):\n",
    "        x, y = batch\n",
    "        y_hat = self(x).squeeze()\n",
    "        val_loss = self.criterion(y_hat, y)\n",
    "        self.log('val_loss', val_loss, prog_bar=True, on_epoch=True)\n",
    "        return {'val_loss' : val_loss}\n",
    "\n",
    "    def test_step(self, batch, batch_idx):\n",
    "        features, labels_transformed = batch\n",
    "        outputs = self(features).squeeze()\n",
    "        \n",
    "        # 逆变换\n",
    "        original_predictions = self.pt.inverse_transform(outputs.cpu().numpy().reshape(-1, 1))\n",
    "        original_labels = self.pt.inverse_transform(labels_transformed.cpu().numpy().reshape(-1, 1))\n",
    "        \n",
    "        # 计算原始尺度的MAE\n",
    "        mae = mean_absolute_error(original_labels, original_predictions)\n",
    "        \n",
    "        self.log('test_mae', mae, on_epoch=True, prog_bar=True, logger=True)\n",
    "        \n",
    "        return mae\n",
    "\n",
    "    def configure_optimizers(self):\n",
    "        return torch.optim.Adam(self.parameters(), lr=self.hparams.lr)"
   ]
  },
  {
   "cell_type": "markdown",
   "metadata": {},
   "source": [
    "## 定义一个callback模块用于画图\n",
    "### 如果没有安装matplotlib，需要先安装\n",
    "!pip install matplotlib"
   ]
  },
  {
   "cell_type": "code",
   "execution_count": 78,
   "metadata": {},
   "outputs": [],
   "source": [
    "import matplotlib.pyplot as plt\n",
    "from pytorch_lightning.callbacks import Callback\n",
    "\n",
    "class LossLogger(Callback):\n",
    "    def __init__(self):\n",
    "        super().__init__()\n",
    "        self.train_losses = []\n",
    "        self.val_losses = []\n",
    "\n",
    "    def on_train_epoch_end(self, trainer, pl_module):\n",
    "        # 记录训练损失\n",
    "        self.train_losses.append(trainer.callback_metrics['train_loss'].item())\n",
    "\n",
    "    def on_validation_epoch_end(self, trainer, pl_module):\n",
    "        # 记录验证损失\n",
    "        self.val_losses.append(trainer.callback_metrics['val_loss'].item())\n",
    "\n",
    "    def on_train_end(self, trainer, pl_module):\n",
    "        # 调整列表长度以确保一致性\n",
    "        min_length = min(len(self.train_losses), len(self.val_losses))\n",
    "        self.train_losses = self.train_losses[:min_length]\n",
    "        self.val_losses = self.val_losses[:min_length]\n",
    "        \n",
    "        # 绘制训练和验证损失\n",
    "        epochs = range(1, len(self.train_losses) + 1)\n",
    "        plt.figure(figsize=(10, 5))\n",
    "        plt.plot(epochs, self.train_losses, label='Training Loss')\n",
    "        plt.plot(epochs, self.val_losses, label='Validation Loss')\n",
    "        plt.xlabel('Epochs')\n",
    "        plt.ylabel('Loss')\n",
    "        plt.title('Training and Validation Loss')\n",
    "        plt.legend()\n",
    "        plt.grid(True)\n",
    "        plt.show()\n",
    "\n",
    "# 训练过程中的损失值会记录在这个列表中\n",
    "loss_logger = LossLogger()\n"
   ]
  },
  {
   "cell_type": "markdown",
   "metadata": {},
   "source": [
    "## 定义所有超参数"
   ]
  },
  {
   "cell_type": "code",
   "execution_count": 79,
   "metadata": {},
   "outputs": [],
   "source": [
    "\n",
    "import argparse\n",
    "\n",
    "parser = argparse.ArgumentParser(description='Carbon dioxide emissions with PyTorch Lightning')\n",
    "parser.add_argument('--init_seed', type=int, default=42, help='Seed for initializing random number generators')\n",
    "parser.add_argument('--batch_size', type=int, default=64, help='Batch size for training and evaluation')\n",
    "parser.add_argument('--hidden_dim', type=int, default=128, help='Dimensionality of hidden layers in RNN')\n",
    "parser.add_argument('--lr', type=float, default=1e-1, help='Learning Rate for training the model')\n",
    "parser.add_argument('--num_layers', type=int, default=2, help='Number of RNN layers')\n",
    "parser.add_argument('--num_heads', type=int, default=2, help='Number of attention heads in Multi-Head Attention')\n",
    "parser.add_argument('--max_epochs', type=int, default=50, help='Maximum number of epochs to train the model')\n",
    "parser.add_argument('--data_path', type=str, default='data.csv', help='Path to the CSV data file')\n",
    "parser.add_argument('--patience', type=int, default=50, help='Patience for early stopping')\n",
    "parser.add_argument('--num_workers', type=int, default=0, help='Number of workers for data loading')\n",
    "parser.add_argument('--model_type', type=str, default='LSTM', choices=['RNN', 'GRU', 'LSTM', 'FC'], help='Type of model to use')\n",
    "parser.add_argument('--bidirectional', type=bool, default=False, help='Whether to use a bidirectional LSTM')\n",
    "\n",
    "hparams, unknown = parser.parse_known_args()"
   ]
  },
  {
   "cell_type": "markdown",
   "metadata": {},
   "source": [
    "## 实例化module和参数的过程，主要是LightningModule和Trainer\n",
    "## 包括了训练和测试的过程"
   ]
  },
  {
   "cell_type": "code",
   "execution_count": 80,
   "metadata": {},
   "outputs": [
    {
     "name": "stderr",
     "output_type": "stream",
     "text": [
      "Seed set to 42\n",
      "GPU available: True (cuda), used: True\n",
      "TPU available: False, using: 0 TPU cores\n",
      "HPU available: False, using: 0 HPUs\n",
      "c:\\Users\\lyz\\anaconda3\\envs\\myenv\\Lib\\site-packages\\pytorch_lightning\\callbacks\\model_checkpoint.py:652: Checkpoint directory C:\\Users\\lyz\\Desktop\\pytorch\\emissions exists and is not empty.\n",
      "LOCAL_RANK: 0 - CUDA_VISIBLE_DEVICES: [0]\n",
      "\n",
      "  | Name      | Type      | Params | Mode \n",
      "------------------------------------------------\n",
      "0 | model     | LSTMModel | 199 K  | train\n",
      "1 | criterion | L1Loss    | 0      | train\n",
      "------------------------------------------------\n",
      "199 K     Trainable params\n",
      "0         Non-trainable params\n",
      "199 K     Total params\n",
      "0.797     Total estimated model params size (MB)\n"
     ]
    },
    {
     "name": "stdout",
     "output_type": "stream",
     "text": [
      "                                                                           "
     ]
    },
    {
     "name": "stderr",
     "output_type": "stream",
     "text": [
      "c:\\Users\\lyz\\anaconda3\\envs\\myenv\\Lib\\site-packages\\pytorch_lightning\\trainer\\connectors\\data_connector.py:424: The 'val_dataloader' does not have many workers which may be a bottleneck. Consider increasing the value of the `num_workers` argument` to `num_workers=7` in the `DataLoader` to improve performance.\n",
      "c:\\Users\\lyz\\anaconda3\\envs\\myenv\\Lib\\site-packages\\pytorch_lightning\\trainer\\connectors\\data_connector.py:424: The 'train_dataloader' does not have many workers which may be a bottleneck. Consider increasing the value of the `num_workers` argument` to `num_workers=7` in the `DataLoader` to improve performance.\n",
      "c:\\Users\\lyz\\anaconda3\\envs\\myenv\\Lib\\site-packages\\pytorch_lightning\\loops\\fit_loop.py:298: The number of training batches (3) is smaller than the logging interval Trainer(log_every_n_steps=50). Set a lower value for log_every_n_steps if you want to see logs for the training epoch.\n"
     ]
    },
    {
     "name": "stdout",
     "output_type": "stream",
     "text": [
      "Epoch 0: 100%|██████████| 3/3 [00:00<00:00, 28.73it/s, v_num=33, train_loss_step=1.380, val_loss=2.660, train_loss_epoch=1.180]"
     ]
    },
    {
     "name": "stderr",
     "output_type": "stream",
     "text": [
      "Metric val_loss improved. New best score: 2.664\n"
     ]
    },
    {
     "name": "stdout",
     "output_type": "stream",
     "text": [
      "Epoch 1: 100%|██████████| 3/3 [00:00<00:00, 29.56it/s, v_num=33, train_loss_step=1.130, val_loss=0.611, train_loss_epoch=1.630]"
     ]
    },
    {
     "name": "stderr",
     "output_type": "stream",
     "text": [
      "Metric val_loss improved by 2.053 >= min_delta = 0.0. New best score: 0.611\n"
     ]
    },
    {
     "name": "stdout",
     "output_type": "stream",
     "text": [
      "Epoch 2: 100%|██████████| 3/3 [00:00<00:00, 26.21it/s, v_num=33, train_loss_step=1.010, val_loss=0.510, train_loss_epoch=0.971]"
     ]
    },
    {
     "name": "stderr",
     "output_type": "stream",
     "text": [
      "Metric val_loss improved by 0.101 >= min_delta = 0.0. New best score: 0.510\n"
     ]
    },
    {
     "name": "stdout",
     "output_type": "stream",
     "text": [
      "Epoch 5: 100%|██████████| 3/3 [00:00<00:00, 25.85it/s, v_num=33, train_loss_step=0.730, val_loss=0.469, train_loss_epoch=0.766] "
     ]
    },
    {
     "name": "stderr",
     "output_type": "stream",
     "text": [
      "Metric val_loss improved by 0.042 >= min_delta = 0.0. New best score: 0.469\n"
     ]
    },
    {
     "name": "stdout",
     "output_type": "stream",
     "text": [
      "Epoch 6: 100%|██████████| 3/3 [00:00<00:00, 32.41it/s, v_num=33, train_loss_step=0.720, val_loss=0.464, train_loss_epoch=0.750]"
     ]
    },
    {
     "name": "stderr",
     "output_type": "stream",
     "text": [
      "Metric val_loss improved by 0.005 >= min_delta = 0.0. New best score: 0.464\n"
     ]
    },
    {
     "name": "stdout",
     "output_type": "stream",
     "text": [
      "Epoch 8: 100%|██████████| 3/3 [00:00<00:00, 37.70it/s, v_num=33, train_loss_step=0.726, val_loss=0.428, train_loss_epoch=0.750]"
     ]
    },
    {
     "name": "stderr",
     "output_type": "stream",
     "text": [
      "Metric val_loss improved by 0.036 >= min_delta = 0.0. New best score: 0.428\n"
     ]
    },
    {
     "name": "stdout",
     "output_type": "stream",
     "text": [
      "Epoch 9: 100%|██████████| 3/3 [00:00<00:00, 26.65it/s, v_num=33, train_loss_step=0.715, val_loss=0.392, train_loss_epoch=0.737]"
     ]
    },
    {
     "name": "stderr",
     "output_type": "stream",
     "text": [
      "Metric val_loss improved by 0.036 >= min_delta = 0.0. New best score: 0.392\n"
     ]
    },
    {
     "name": "stdout",
     "output_type": "stream",
     "text": [
      "Epoch 29: 100%|██████████| 3/3 [00:00<00:00, 28.49it/s, v_num=33, train_loss_step=0.867, val_loss=0.391, train_loss_epoch=0.657] "
     ]
    },
    {
     "name": "stderr",
     "output_type": "stream",
     "text": [
      "Metric val_loss improved by 0.001 >= min_delta = 0.0. New best score: 0.391\n"
     ]
    },
    {
     "name": "stdout",
     "output_type": "stream",
     "text": [
      "Epoch 49: 100%|██████████| 3/3 [00:00<00:00, 28.28it/s, v_num=33, train_loss_step=0.663, val_loss=0.446, train_loss_epoch=0.642]"
     ]
    },
    {
     "name": "stderr",
     "output_type": "stream",
     "text": [
      "`Trainer.fit` stopped: `max_epochs=50` reached.\n"
     ]
    },
    {
     "name": "stdout",
     "output_type": "stream",
     "text": [
      "Epoch 49: 100%|██████████| 3/3 [00:00<00:00, 25.45it/s, v_num=33, train_loss_step=0.663, val_loss=0.446, train_loss_epoch=0.642]\n"
     ]
    },
    {
     "data": {
      "image/png": "[encoded data removed]",
      "text/plain": [
       "<Figure size 1000x500 with 1 Axes>"
      ]
     },
     "metadata": {},
     "output_type": "display_data"
    },
    {
     "name": "stderr",
     "output_type": "stream",
     "text": [
      "Restoring states from the checkpoint path at C:\\Users\\lyz\\Desktop\\pytorch\\emissions\\emissions-epoch=29-val_loss=0.39-v14.ckpt\n",
      "LOCAL_RANK: 0 - CUDA_VISIBLE_DEVICES: [0]\n",
      "Loaded model weights from the checkpoint at C:\\Users\\lyz\\Desktop\\pytorch\\emissions\\emissions-epoch=29-val_loss=0.39-v14.ckpt\n",
      "c:\\Users\\lyz\\anaconda3\\envs\\myenv\\Lib\\site-packages\\pytorch_lightning\\trainer\\connectors\\data_connector.py:424: The 'test_dataloader' does not have many workers which may be a bottleneck. Consider increasing the value of the `num_workers` argument` to `num_workers=7` in the `DataLoader` to improve performance.\n"
     ]
    },
    {
     "name": "stdout",
     "output_type": "stream",
     "text": [
      "Testing DataLoader 0: 100%|██████████| 1/1 [00:00<00:00, 40.43it/s]\n"
     ]
    },
    {
     "data": {
      "text/html": [
       "<pre style=\"white-space:pre;overflow-x:auto;line-height:normal;font-family:Menlo,'DejaVu Sans Mono',consolas,'Courier New',monospace\">┏━━━━━━━━━━━━━━━━━━━━━━━━━━━┳━━━━━━━━━━━━━━━━━━━━━━━━━━━┓\n",
       "┃<span style=\"font-weight: bold\">        Test metric        </span>┃<span style=\"font-weight: bold\">       DataLoader 0        </span>┃\n",
       "┡━━━━━━━━━━━━━━━━━━━━━━━━━━━╇━━━━━━━━━━━━━━━━━━━━━━━━━━━┩\n",
       "│<span style=\"color: #008080; text-decoration-color: #008080\">         test_mae          </span>│<span style=\"color: #800080; text-decoration-color: #800080\">        69754632.0         </span>│\n",
       "└───────────────────────────┴───────────────────────────┘\n",
       "</pre>\n"
      ],
      "text/plain": [
       "┏━━━━━━━━━━━━━━━━━━━━━━━━━━━┳━━━━━━━━━━━━━━━━━━━━━━━━━━━┓\n",
       "┃\u001b[1m \u001b[0m\u001b[1m       Test metric       \u001b[0m\u001b[1m \u001b[0m┃\u001b[1m \u001b[0m\u001b[1m      DataLoader 0       \u001b[0m\u001b[1m \u001b[0m┃\n",
       "┡━━━━━━━━━━━━━━━━━━━━━━━━━━━╇━━━━━━━━━━━━━━━━━━━━━━━━━━━┩\n",
       "│\u001b[36m \u001b[0m\u001b[36m        test_mae         \u001b[0m\u001b[36m \u001b[0m│\u001b[35m \u001b[0m\u001b[35m       69754632.0        \u001b[0m\u001b[35m \u001b[0m│\n",
       "└───────────────────────────┴───────────────────────────┘\n"
      ]
     },
     "metadata": {},
     "output_type": "display_data"
    },
    {
     "data": {
      "text/plain": [
       "[{'test_mae': 69754632.0}]"
      ]
     },
     "execution_count": 80,
     "metadata": {},
     "output_type": "execute_result"
    }
   ],
   "source": [
    "seed_everything(hparams.init_seed) # 固定随机种子\n",
    "\n",
    "df, pt = preprocess_data(hparams.data_path) # 预处理数据并保存变换器\n",
    "\n",
    "model = EmissionsPredictor(hparams=hparams, pt=pt)\n",
    "\n",
    "# Trainer\n",
    "earlystopping = EarlyStopping('val_loss', patience=hparams.patience, verbose=True, min_delta=0.00, mode=\"min\")\n",
    "checkpoint_callback = ModelCheckpoint(monitor='val_loss',\n",
    "                                        mode='min',\n",
    "                                        dirpath='emissions',\n",
    "                                        filename='emissions-{epoch:02d}-{val_loss:.2f}',\n",
    "                                        save_top_k=1)\n",
    "progress_bar = TQDMProgressBar()\n",
    "\n",
    "callback = [earlystopping, checkpoint_callback, progress_bar, loss_logger]\n",
    "trainer = pl.Trainer(max_epochs=hparams.max_epochs, callbacks=callback, accelerator='gpu', devices=1, logger=True)\n",
    "\n",
    "# DataModule\n",
    "dm = EmissionsDataModule(hparams=hparams, df=df, pt=pt)\n",
    "\n",
    "trainer.fit(model, datamodule=dm)\n",
    "\n",
    "best_model_path = trainer.checkpoint_callback.best_model_path\n",
    "\n",
    "# 测试\n",
    "trainer.test(\n",
    "    model=model,\n",
    "    datamodule=dm,\n",
    "    ckpt_path=best_model_path\n",
    ")"
   ]
  }
 ],
 "metadata": {
  "kernelspec": {
   "display_name": "myenv",
   "language": "python",
   "name": "python3"
  },
  "language_info": {
   "codemirror_mode": {
    "name": "ipython",
    "version": 3
   },
   "file_extension": ".py",
   "mimetype": "text/x-python",
   "name": "python",
   "nbconvert_exporter": "python",
   "pygments_lexer": "ipython3",
   "version": "3.11.9"
  }
 },
 "nbformat": 4,
 "nbformat_minor": 2
}
